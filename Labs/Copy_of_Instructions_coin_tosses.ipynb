{
  "nbformat": 4,
  "nbformat_minor": 0,
  "metadata": {
    "colab": {
      "provenance": [],
      "include_colab_link": true
    },
    "kernelspec": {
      "name": "python3",
      "display_name": "Python 3"
    },
    "language_info": {
      "name": "python"
    }
  },
  "cells": [
    {
      "cell_type": "markdown",
      "metadata": {
        "id": "view-in-github",
        "colab_type": "text"
      },
      "source": [
        "<a href=\"https://colab.research.google.com/github/elhamkashi/DSPS_EKashi/blob/main/Labs/Copy_of_Instructions_coin_tosses.ipynb\" target=\"_parent\"><img src=\"https://colab.research.google.com/assets/colab-badge.svg\" alt=\"Open In Colab\"/></a>"
      ]
    },
    {
      "cell_type": "code",
      "execution_count": null,
      "metadata": {
        "id": "jrrkXl4JWgBq"
      },
      "outputs": [],
      "source": [
        "#imports\n",
        "import numpy as np\n",
        "import scipy as sp\n",
        "import matplotlib.pyplot as plt"
      ]
    },
    {
      "cell_type": "code",
      "source": [
        "np.random.rand?"
      ],
      "metadata": {
        "id": "O54KCxV4bI_q"
      },
      "execution_count": null,
      "outputs": []
    },
    {
      "cell_type": "code",
      "source": [
        "np.random.rand()"
      ],
      "metadata": {
        "colab": {
          "base_uri": "https://localhost:8080/"
        },
        "id": "3X6rIwvibg9A",
        "outputId": "fe39c59e-928f-4b4a-a1f3-b929bfe76d6b"
      },
      "execution_count": null,
      "outputs": [
        {
          "output_type": "execute_result",
          "data": {
            "text/plain": [
              "0.7843294002184618"
            ]
          },
          "metadata": {},
          "execution_count": 4
        }
      ]
    },
    {
      "cell_type": "code",
      "source": [
        "# get 10 coin tosses with the numpy.random.rand function, make a histogram\n",
        "\n",
        "np.random.rand(302)\n",
        "cointainer= []\n",
        "N=10\n",
        "for i in range(N):\n",
        "  cointainer.append(np.round(np.random.rand()))\n",
        "\n",
        "print(cointainer)\n",
        "\n",
        "..."
      ],
      "metadata": {
        "colab": {
          "base_uri": "https://localhost:8080/"
        },
        "id": "7zyVZ9c8Wwqn",
        "outputId": "b1cb5e6a-033d-49f4-e0a1-a873a9547604",
        "collapsed": true
      },
      "execution_count": null,
      "outputs": [
        {
          "output_type": "stream",
          "name": "stdout",
          "text": [
            "[np.float64(1.0), np.float64(0.0), np.float64(0.0), np.float64(0.0), np.float64(1.0), np.float64(0.0), np.float64(0.0), np.float64(1.0), np.float64(1.0), np.float64(0.0)]\n"
          ]
        },
        {
          "output_type": "execute_result",
          "data": {
            "text/plain": [
              "Ellipsis"
            ]
          },
          "metadata": {},
          "execution_count": 8
        }
      ]
    },
    {
      "cell_type": "code",
      "source": [
        "plt.hist(cointainer, bins=[-0.1,0.1,.9,1.1]);"
      ],
      "metadata": {
        "colab": {
          "base_uri": "https://localhost:8080/",
          "height": 430
        },
        "id": "Cavd4oPzcBU_",
        "outputId": "fd3514ab-3650-4789-c824-ec81b80cc8e1"
      },
      "execution_count": null,
      "outputs": [
        {
          "output_type": "display_data",
          "data": {
            "text/plain": [
              "<Figure size 640x480 with 1 Axes>"
            ],
            "image/png": "[encoded data removed]"
          },
          "metadata": {}
        }
      ]
    },
    {
      "cell_type": "markdown",
      "source": [
        "P(H) = prob of one head\n"
      ],
      "metadata": {
        "id": "PVFLWuGXW7EX"
      }
    },
    {
      "cell_type": "markdown",
      "source": [
        "P(HH) ="
      ],
      "metadata": {
        "id": "kfQ33_OGb6qU"
      }
    },
    {
      "cell_type": "markdown",
      "source": [
        "P(HHT) ="
      ],
      "metadata": {
        "id": "SOa00R_kb-f7"
      }
    },
    {
      "cell_type": "markdown",
      "source": [
        "P(2H & 1T) =  "
      ],
      "metadata": {
        "id": "KDQGdVzucDtB"
      }
    },
    {
      "cell_type": "markdown",
      "source": [
        "$P(N_H; N_T) = P(H)^{N_H} * P(T)^{N_T} * {N_H + N_T \\choose  N_H} $"
      ],
      "metadata": {
        "id": "k34F3UhJcUeg"
      }
    },
    {
      "cell_type": "code",
      "source": [
        "from math import comb\n",
        "P_2H_8T = ...\n",
        "print(f\"the probability of 2H and 8T is {P_2H_8T}\")"
      ],
      "metadata": {
        "colab": {
          "base_uri": "https://localhost:8080/"
        },
        "id": "yLmXRnEmdBTR",
        "outputId": "e90d1cff-3065-4933-cbe4-93108eb4c5e7",
        "collapsed": true
      },
      "execution_count": null,
      "outputs": [
        {
          "output_type": "stream",
          "name": "stdout",
          "text": [
            "the probability of 2H and 8T is 0.0439453125\n"
          ]
        }
      ]
    },
    {
      "cell_type": "markdown",
      "source": [
        "# Fair coin"
      ],
      "metadata": {
        "id": "6LYcQ_0OG_6R"
      }
    },
    {
      "cell_type": "markdown",
      "source": [
        "The binomial distribution is the distribution that described the probability of getting outcome X $N$ times out of $M$ trials for a 2-outcome experiments with each trial with the same probability P(X).\n",
        "\n",
        "Now show binomial distribution for 30 coin tosses of a _fair_ coin."
      ],
      "metadata": {
        "id": "VztqKvMNGYVf"
      }
    },
    {
      "cell_type": "code",
      "source": [
        "import scipy as sp"
      ],
      "metadata": {
        "id": "TgAaBNGndJ_2"
      },
      "execution_count": null,
      "outputs": []
    },
    {
      "cell_type": "code",
      "source": [
        "sp.stats.binom?"
      ],
      "metadata": {
        "id": "X1CThyEadTSe"
      },
      "execution_count": null,
      "outputs": []
    },
    {
      "cell_type": "code",
      "source": [
        "support = np.arange(0, 30)\n",
        "plt.plot(support, sp.stats.binom.pmf(support, 30, 0.5));\n",
        "plt.xlabel(\"number of heads in 30 draws\")\n",
        "plt.ylabel(\"probability\");"
      ],
      "metadata": {
        "id": "sC1PqKyVdV1h",
        "colab": {
          "base_uri": "https://localhost:8080/",
          "height": 449
        },
        "outputId": "67c8ccfb-856d-4995-8709-4b4f6d15cefd"
      },
      "execution_count": null,
      "outputs": [
        {
          "output_type": "display_data",
          "data": {
            "text/plain": [
              "<Figure size 640x480 with 1 Axes>"
            ],
            "image/png": "[encoded data removed]"
          },
          "metadata": {}
        }
      ]
    },
    {
      "cell_type": "markdown",
      "source": [
        "# vegas coin\n",
        "lets weight the coin toward tail (by 30%) and show the binomial distribution of probabilities"
      ],
      "metadata": {
        "id": "3iJpsNq-i5QB"
      }
    },
    {
      "cell_type": "markdown",
      "source": [
        "how to represent vegas coin?\n"
      ],
      "metadata": {
        "id": "en-QsefIdv0h"
      }
    },
    {
      "cell_type": "code",
      "source": [],
      "metadata": {
        "id": "Id2QkVf0SywC"
      },
      "execution_count": null,
      "outputs": []
    },
    {
      "cell_type": "markdown",
      "source": [
        "Now get 10 draws from the same probability distributin, plot the histogram of outcomes, and compare it to the _theoretical_ binomial probability distributions"
      ],
      "metadata": {
        "id": "aIh8P2ryHJtI"
      }
    },
    {
      "cell_type": "code",
      "source": [
        "draws=sp.stats.binom.rvs(30, 0.5, size=10)\n",
        "plt.hist(draws, density=True, bins=np.arange(-0.5,30)\n",
        "plt.plot(support, sp.stats.binom.pmf(support, 30, 0.5));\n",
        "plt.xlabel(\"number of heads in 30 draws\")\n",
        "plt.ylabel(\"probability\");"
      ],
      "metadata": {
        "colab": {
          "base_uri": "https://localhost:8080/",
          "height": 449
        },
        "id": "cw-f0gBoenmA",
        "outputId": "59510883-d48e-4466-9e04-dd403e094748"
      },
      "execution_count": null,
      "outputs": [
        {
          "output_type": "display_data",
          "data": {
            "text/plain": [
              "<Figure size 640x480 with 1 Axes>"
            ],
            "image/png": "[encoded data removed]"
          },
          "metadata": {}
        }
      ]
    },
    {
      "cell_type": "code",
      "source": [
        "...\n",
        "plt.xlabel(\"number of heads in 30 draws\")\n",
        "plt.ylabel(\"frequency\");"
      ],
      "metadata": {
        "id": "lrPDXfJGjU5Y"
      },
      "execution_count": null,
      "outputs": []
    },
    {
      "cell_type": "code",
      "source": [
        "#Do it for a sample of 100\n",
        "...\n",
        "plt.xlabel(\"number of heads in 30 draws\")\n",
        "plt.ylabel(\"frequency\");"
      ],
      "metadata": {
        "id": "06zOgHwtkyuH"
      },
      "execution_count": null,
      "outputs": []
    },
    {
      "cell_type": "code",
      "source": [
        "#Do it for a sample of 1000\n",
        "...\n",
        "plt.xlabel(\"number of heads in 30 draws\")\n",
        "plt.ylabel(\"frequency\");"
      ],
      "metadata": {
        "id": "3I43tOb-eamb"
      },
      "execution_count": null,
      "outputs": []
    },
    {
      "cell_type": "markdown",
      "source": [
        "now do it for the vegas coin we used before"
      ],
      "metadata": {
        "id": "jlzzTz5bHxG5"
      }
    },
    {
      "cell_type": "code",
      "source": [
        "#vegas coin\n",
        "#Do it for a sample of 1000\n",
        "\n",
        "...\n",
        "plt.xlabel(\"number of heads in 30 draws\")\n",
        "plt.ylabel(\"frequency\");"
      ],
      "metadata": {
        "id": "2meFg1s1S8aZ"
      },
      "execution_count": null,
      "outputs": []
    },
    {
      "cell_type": "code",
      "source": [
        "# we can also do it the hacky way if we dont know or want to use a package with a fundtion that is under the hood and we dont see\n",
        "cointoss = np.zeros(10_000)\n",
        "for i in range(10_000):\n",
        "  cointoss[i] = np.round(np.random.rand(30)).sum()\n",
        "\n",
        "plt.hist(cointoss, bins=np.arange(-0.5,30), density=True);\n",
        "#cointoss\n",
        "plt.ylabel(\"frequency\")\n",
        "plt.xlabel(\"number of heads in 30 draws\");\n"
      ],
      "metadata": {
        "id": "RLcD1zuQdscF"
      },
      "execution_count": null,
      "outputs": []
    },
    {
      "cell_type": "code",
      "source": [
        "print(plt.hist(cointoss, bins=np.arange(-0.5,30), density=True)[0].sum())\n",
        "plt.plot(support, sp.stats.binom.pmf(support, 30, 0.5));\n",
        "\n",
        "plt.xlabel(\"number of heads in 30 draws\")\n",
        "plt.ylabel(\"probability\");"
      ],
      "metadata": {
        "id": "shT8L6iHgPLj"
      },
      "execution_count": null,
      "outputs": []
    },
    {
      "cell_type": "markdown",
      "source": [
        "# BAYESIAN PROBABILITY\n",
        "add a prior : you are in vegas and you are sure you are going to get tricked - assume your coin has 0 probability to get heads"
      ],
      "metadata": {
        "id": "KRH_6nw1IBaP"
      }
    },
    {
      "cell_type": "code",
      "source": [
        "x=np.linspace(0,1,100)\n",
        "x"
      ],
      "metadata": {
        "colab": {
          "base_uri": "https://localhost:8080/"
        },
        "id": "9ppEpe5pjC5n",
        "outputId": "6d64b1d0-4d18-410d-baa9-d0d3439fd4f5"
      },
      "execution_count": null,
      "outputs": [
        {
          "output_type": "execute_result",
          "data": {
            "text/plain": [
              "array([0.        , 0.01010101, 0.02020202, 0.03030303, 0.04040404,\n",
              "       0.05050505, 0.06060606, 0.07070707, 0.08080808, 0.09090909,\n",
              "       0.1010101 , 0.11111111, 0.12121212, 0.13131313, 0.14141414,\n",
              "       0.15151515, 0.16161616, 0.17171717, 0.18181818, 0.19191919,\n",
              "       0.2020202 , 0.21212121, 0.22222222, 0.23232323, 0.24242424,\n",
              "       0.25252525, 0.26262626, 0.27272727, 0.28282828, 0.29292929,\n",
              "       0.3030303 , 0.31313131, 0.32323232, 0.33333333, 0.34343434,\n",
              "       0.35353535, 0.36363636, 0.37373737, 0.38383838, 0.39393939,\n",
              "       0.4040404 , 0.41414141, 0.42424242, 0.43434343, 0.44444444,\n",
              "       0.45454545, 0.46464646, 0.47474747, 0.48484848, 0.49494949,\n",
              "       0.50505051, 0.51515152, 0.52525253, 0.53535354, 0.54545455,\n",
              "       0.55555556, 0.56565657, 0.57575758, 0.58585859, 0.5959596 ,\n",
              "       0.60606061, 0.61616162, 0.62626263, 0.63636364, 0.64646465,\n",
              "       0.65656566, 0.66666667, 0.67676768, 0.68686869, 0.6969697 ,\n",
              "       0.70707071, 0.71717172, 0.72727273, 0.73737374, 0.74747475,\n",
              "       0.75757576, 0.76767677, 0.77777778, 0.78787879, 0.7979798 ,\n",
              "       0.80808081, 0.81818182, 0.82828283, 0.83838384, 0.84848485,\n",
              "       0.85858586, 0.86868687, 0.87878788, 0.88888889, 0.8989899 ,\n",
              "       0.90909091, 0.91919192, 0.92929293, 0.93939394, 0.94949495,\n",
              "       0.95959596, 0.96969697, 0.97979798, 0.98989899, 1.        ])"
            ]
          },
          "metadata": {},
          "execution_count": 18
        }
      ]
    },
    {
      "cell_type": "code",
      "source": [
        "prior=np.zeros_like(x)\n",
        "prior[:50]=1\n",
        "prior\n",
        "plt.plot( prior)\n",
        "#plt.xlabel(\"probability of H\")\n",
        "#plt.legend();\n",
        "#plt.yticks([]);"
      ],
      "metadata": {
        "colab": {
          "base_uri": "https://localhost:8080/",
          "height": 447
        },
        "id": "jaKPvLxtjUcb",
        "outputId": "eac3f333-9067-4823-d7ce-59184e2179de"
      },
      "execution_count": null,
      "outputs": [
        {
          "output_type": "execute_result",
          "data": {
            "text/plain": [
              "[<matplotlib.lines.Line2D at 0x7a535dee5670>]"
            ]
          },
          "metadata": {},
          "execution_count": 21
        },
        {
          "output_type": "display_data",
          "data": {
            "text/plain": [
              "<Figure size 640x480 with 1 Axes>"
            ],
            "image/png": "[encoded data removed]"
          },
          "metadata": {}
        }
      ]
    },
    {
      "cell_type": "code",
      "source": [
        "prior=sp.stats.norm.pdf(x,.1,.2)\n",
        "\n",
        "prior\n",
        "plt.plot( x, prior)"
      ],
      "metadata": {
        "colab": {
          "base_uri": "https://localhost:8080/",
          "height": 447
        },
        "id": "s0knElENknbI",
        "outputId": "416b7631-37ba-4753-c191-777b07cf84ee"
      },
      "execution_count": null,
      "outputs": [
        {
          "output_type": "execute_result",
          "data": {
            "text/plain": [
              "[<matplotlib.lines.Line2D at 0x7a535dc921b0>]"
            ]
          },
          "metadata": {},
          "execution_count": 24
        },
        {
          "output_type": "display_data",
          "data": {
            "text/plain": [
              "<Figure size 640x480 with 1 Axes>"
            ],
            "image/png": "[encoded data removed]"
          },
          "metadata": {}
        }
      ]
    },
    {
      "cell_type": "code",
      "source": [
        "likelihood=sp.stats.binom.pmf(x*100)"
      ],
      "metadata": {
        "id": "BwROWpb7j1ad"
      },
      "execution_count": null,
      "outputs": []
    },
    {
      "cell_type": "code",
      "source": [
        "likelihood=sp.stats.binom.pmf(support, 30 , .5)\n"
      ],
      "metadata": {
        "id": "3opQSYxvi0u_"
      },
      "execution_count": null,
      "outputs": []
    },
    {
      "cell_type": "code",
      "source": [
        "#0 probability of getting heads=1, 100% probability of getting tails...\n",
        "plt.plot(x, prior, label=\"prior\")\n",
        "plt.xlabel(\"probability of H\")\n",
        "plt.yticks([0, 1], [\"head\", \"tail\"]);"
      ],
      "metadata": {
        "id": "SvbIYLSFkaBi"
      },
      "execution_count": null,
      "outputs": []
    },
    {
      "cell_type": "code",
      "source": [
        "#BAYES THEOREM:\n",
        "#Posterior = likelihood * prior / evidence ~ likelihood * priori\n",
        "x = np.linspace(0.0, 1, 100)\n",
        "likelihood = sp.stats.binom.pmf((x * 100).astype(int), 100, 0.5)\n",
        "posterior = ...\n",
        "plt.plot(x, posterior, label=\"unnormalized probability\")\n",
        "plt.xlabel(\"probability of H\")\n",
        "plt.legend();\n",
        "plt.yticks([]);"
      ],
      "metadata": {
        "id": "nDzPDWl8nB5x"
      },
      "execution_count": null,
      "outputs": []
    },
    {
      "cell_type": "code",
      "source": [
        "#try a continuous, never 0 prior\n",
        "prior = ...\n",
        "plt.plot(x, prior, label=\"prior\")\n",
        "plt.xlabel(\"probability of H\")\n",
        "plt.legend();\n",
        "plt.yticks([]);\n"
      ],
      "metadata": {
        "id": "kl3D61USnCxG"
      },
      "execution_count": null,
      "outputs": []
    },
    {
      "cell_type": "code",
      "source": [
        "posterior = ...\n",
        "plt.plot(x, posterior, label=\"unnormalized posterior unfair coin\")\n",
        "plt.plot(x, sp.stats.binom.pmf((x * 100).astype(int), 100, 0.5) / 3.45, label=\"fair coin\")\n",
        "plt.xlabel(\"probability of H\")\n",
        "plt.legend();\n",
        "plt.yticks([]);"
      ],
      "metadata": {
        "id": "iXKiafmonLuO"
      },
      "execution_count": null,
      "outputs": []
    },
    {
      "cell_type": "code",
      "source": [],
      "metadata": {
        "id": "3jNyhVsbnL-k"
      },
      "execution_count": null,
      "outputs": []
    }
  ]
}